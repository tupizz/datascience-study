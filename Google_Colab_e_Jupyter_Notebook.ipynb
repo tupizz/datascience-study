{
  "nbformat": 4,
  "nbformat_minor": 0,
  "metadata": {
    "colab": {
      "name": "Google Colab e Jupyter Notebook.ipynb",
      "provenance": [],
      "collapsed_sections": [],
      "include_colab_link": true
    },
    "kernelspec": {
      "name": "python3",
      "display_name": "Python 3"
    }
  },
  "cells": [
    {
      "cell_type": "markdown",
      "metadata": {
        "id": "view-in-github",
        "colab_type": "text"
      },
      "source": [
        "<a href=\"https://colab.research.google.com/github/tupizz/datascience-study/blob/main/Google_Colab_e_Jupyter_Notebook.ipynb\" target=\"_parent\"><img src=\"https://colab.research.google.com/assets/colab-badge.svg\" alt=\"Open In Colab\"/></a>"
      ]
    },
    {
      "cell_type": "markdown",
      "metadata": {
        "id": "dy92aaZbC74S"
      },
      "source": [
        "<img alt=\"Colaboratory logo\" width=\"20%\" src=\"https://raw.githubusercontent.com/carlosfab/escola-data-science/master/img/novo_logo_bg_claro.png\">\n",
        "\n",
        "#### **Data Science na Prática 3.0**\n",
        "*by [sigmoidal.ai](https://sigmoidal.ai)*\n",
        "\n",
        "---\n",
        "\n",
        "<h1>Conhecendo o Jupyter Notebook</h1>\n",
        "\n",
        "Google Colab é um ambiente Jupyter notebook que roda inteiramente na nuvem. Ou seja, você consegue criar e rodar seus projetos de Data Science sem perder tempo configurando sua máquina local.\n",
        "\n",
        "<center><img src=\"https://miro.medium.com/max/2000/1*gl0OdcvY4lnkSB8WvOghvw.jpeg\" height=\"400px\"></center>"
      ]
    },
    {
      "cell_type": "markdown",
      "metadata": {
        "id": "TU3QmvBTELE4"
      },
      "source": [
        "## Ambiente Interativo\n",
        "\n",
        "Uma das principais vantagens de se usar Jupyter notebooks no lugar de IDE convencionais para criar seus projetos, é porque esta página não é estática. Quando você cria um arquivo aqui, qualquer pessoa vai conseguir rodar seu código e fazer suas próprias alterações.\n",
        "\n",
        "Isto é perfeito! Imagina uma situação onde você fez uma análise para a sua empresa, 6 meses atrás. Determinado dia, o Diretor de vendas pede para você calcular uma informação completamente nova em cima daquela análise.\n",
        "\n",
        "Se você tem apenas o relatório estático (ou mesmo um monte de arquivos .py, sem documentação), as chances são que você não vai ser capaz de entregrar a informação nova em tempo ábil.\n",
        "\n",
        "Agora, se você tem salvo todos os seus notebooks de maneira organizada, preferencialmente na nuvem, você pode executar todas as células novamente e apenas incluir mais essa análise extra.\n",
        "\n",
        "Veja como é fácil trabalhar com céulas interativas. "
      ]
    },
    {
      "cell_type": "code",
      "metadata": {
        "id": "4PFMKf-pED5C",
        "colab": {
          "base_uri": "https://localhost:8080/",
          "height": 34
        },
        "outputId": "e37f5c4b-56c8-4a8a-ca47-f97324979e7c"
      },
      "source": [
        "# operações matemáticas com Python\n",
        "receita = 14800.90\n",
        "despesa_fixa = 4500\n",
        "despesa_variavel = 3600.90\n",
        "\n",
        "lucro = receita - (despesa_fixa + despesa_variavel)\n",
        "\n",
        "print(lucro)"
      ],
      "execution_count": null,
      "outputs": [
        {
          "output_type": "stream",
          "text": [
            "6700.0\n"
          ],
          "name": "stdout"
        }
      ]
    },
    {
      "cell_type": "markdown",
      "metadata": {
        "id": "bilZiqGDJG3W"
      },
      "source": [
        "A célula acima é nossa primeira contendo código. Todas as anteriores (incluindo este) eram texto puro.\n",
        "\n",
        "Dê dois cliques na célula acima para editar, altere o valor de alguma varíavel (receita, por exemplo) e aperte **SHIFT + ENTER** (ou clique no ícone \"Play\" na esquerda dela. Essa é a vantagem de se documentar um projeto pelo Jupyter notebook, você torna ele replicável."
      ]
    },
    {
      "cell_type": "markdown",
      "metadata": {
        "id": "R_4lDn-sJ_6O"
      },
      "source": [
        "## Atalhos do Jupyter\n",
        "\n",
        "Saber os atalhos do Jupyter vai ajudar você a ganhar tempo. Apesar de você sempre poder recorrer ao menu lá em cima, recomendo você já ir se acostumando com as principais combinações de teclas. Aqui estão algumas delas:\n",
        "\n",
        "* Aperte **Shift + Enter** para executar a célula selecionada;\n",
        "* Aperte **Ctrl/Cmd + M** seguindo por **B** para criar uma célula nóva abaixo;\n",
        "* Aperte **Ctrl/Cmd + M** seguindo por **A** para criar uma célula nóva acima;\n",
        "* Aperte **Ctrl/Cmd + M** seguindo por **M** para definir a célula selecionada como tipo Texto;\n",
        "* Aperte **Ctrl/Cmd + M** seguindo por **Y** para definir a célula selecionada como tipo Código;"
      ]
    },
    {
      "cell_type": "markdown",
      "metadata": {
        "id": "QuIx7Szv1m3_"
      },
      "source": [
        "## Integração com o Sistema\n",
        "\n",
        "Outra coisa que o Jupyter notebook possibilita é você acessar o próprio sistema, tudo a partir da célula de código.\n",
        "\n",
        "Se você está acostumado a usar linha de comando no Terminal, por exemplo, pode integrar seu código Python com essa possibilidade.\n",
        "\n",
        "Por exemplo, para eu listar todos os arquivos da pasta atual:"
      ]
    },
    {
      "cell_type": "code",
      "metadata": {
        "id": "hM9xDA9ALhK9",
        "colab": {
          "base_uri": "https://localhost:8080/",
          "height": 459
        },
        "outputId": "8576741e-7dce-43b4-e102-f94ea130f29d"
      },
      "source": [
        "!ls / -l"
      ],
      "execution_count": null,
      "outputs": [
        {
          "output_type": "stream",
          "text": [
            "total 96\n",
            "drwxr-xr-x   1 root root 4096 Aug 27 16:10 bin\n",
            "drwxr-xr-x   2 root root 4096 Apr 24  2018 boot\n",
            "drwxr-xr-x   1 root root 4096 Aug 27 16:17 content\n",
            "drwxr-xr-x   1 root root 4096 Sep 11 16:05 datalab\n",
            "drwxr-xr-x   5 root root  360 Sep 16 00:35 dev\n",
            "drwxr-xr-x   1 root root 4096 Sep 16 00:35 etc\n",
            "drwxr-xr-x   2 root root 4096 Apr 24  2018 home\n",
            "drwxr-xr-x   1 root root 4096 Aug 27 16:12 lib\n",
            "drwxr-xr-x   2 root root 4096 Aug 27 16:08 lib32\n",
            "drwxr-xr-x   2 root root 4096 Aug  7 13:03 lib64\n",
            "drwxr-xr-x   2 root root 4096 Aug  7 13:02 media\n",
            "drwxr-xr-x   2 root root 4096 Aug  7 13:02 mnt\n",
            "drwxr-xr-x   1 root root 4096 Aug 27 16:13 opt\n",
            "dr-xr-xr-x 103 root root    0 Sep 16 00:35 proc\n",
            "drwx------   1 root root 4096 Sep 16 00:35 root\n",
            "drwxr-xr-x   1 root root 4096 Aug 27 16:10 run\n",
            "drwxr-xr-x   1 root root 4096 Aug 27 16:11 sbin\n",
            "drwxr-xr-x   2 root root 4096 Aug  7 13:02 srv\n",
            "drwxr-xr-x   4 root root 4096 Sep  9 16:38 swift\n",
            "dr-xr-xr-x  12 root root    0 Sep 16 00:35 sys\n",
            "drwxr-xr-x   4 root root 4096 Sep  9 16:35 tensorflow-2.0.0-rc0\n",
            "drwxrwxrwt   1 root root 4096 Sep 16 00:36 tmp\n",
            "drwxr-xr-x   1 root root 4096 Sep 11 16:05 tools\n",
            "drwxr-xr-x   1 root root 4096 Aug 27 16:13 usr\n",
            "drwxr-xr-x   1 root root 4096 Sep 16 00:35 var\n"
          ],
          "name": "stdout"
        }
      ]
    },
    {
      "cell_type": "markdown",
      "metadata": {
        "id": "Hs8yawzSLf64"
      },
      "source": [
        "Também é possível baixar arquivos por comandos do Terminal, criar diretórios e automatizar *pipelines*. Isso contribui mais ainda para que seu notebook seja replicável por qualquer pessoa.\n",
        "\n",
        "Vamos supor que você está usando um arquivo csv que se encontra no endereço ```https://raw.githubusercontent.com/carlosfab/data_science/master/data/train.csv``` e quer baixar o mesmo:"
      ]
    },
    {
      "cell_type": "code",
      "metadata": {
        "id": "X1uf1vKB1v5V",
        "colab": {
          "base_uri": "https://localhost:8080/"
        },
        "outputId": "e431a0d6-56d2-4f49-9863-a6e34d67c018"
      },
      "source": [
        "# baixar o arquivo train.csv\n",
        "!wget https://raw.githubusercontent.com/carlosfab/data_science/master/data/train.csv\n",
        "  \n",
        "# ver o diretório\n",
        "!ls -l"
      ],
      "execution_count": null,
      "outputs": [
        {
          "output_type": "stream",
          "name": "stdout",
          "text": [
            "--2021-12-17 21:58:15--  https://raw.githubusercontent.com/carlosfab/data_science/master/data/train.csv\n",
            "Resolving raw.githubusercontent.com (raw.githubusercontent.com)... 185.199.111.133, 185.199.109.133, 185.199.108.133, ...\n",
            "Connecting to raw.githubusercontent.com (raw.githubusercontent.com)|185.199.111.133|:443... connected.\n",
            "HTTP request sent, awaiting response... 200 OK\n",
            "Length: 61194 (60K) [text/plain]\n",
            "Saving to: ‘train.csv’\n",
            "\n",
            "train.csv           100%[===================>]  59.76K  --.-KB/s    in 0.01s   \n",
            "\n",
            "2021-12-17 21:58:15 (4.29 MB/s) - ‘train.csv’ saved [61194/61194]\n",
            "\n",
            "total 68\n",
            "drwxr-xr-x 1 root root  4096 Dec  3 14:33 sample_data\n",
            "-rw-r--r-- 1 root root  1273 Dec 17 21:52 sigmoidal.png\n",
            "-rw-r--r-- 1 root root 61194 Dec 17 21:58 train.csv\n"
          ]
        }
      ]
    },
    {
      "cell_type": "markdown",
      "metadata": {
        "id": "tGzb2hXD3bnP"
      },
      "source": [
        "## Auxílios do Jupyter\n",
        "\n",
        "Usar o **Tab** ajuda muito você a completar automaticamente o código, ou ver a documentação rapidamente. Veja como usar essa tecla para ver o que existe dentro da biblioteca ```pandas```.*italicized text*"
      ]
    },
    {
      "cell_type": "code",
      "metadata": {
        "id": "BiPxbPPM4X8s"
      },
      "source": [
        "import pandas as pd"
      ],
      "execution_count": null,
      "outputs": []
    },
    {
      "cell_type": "markdown",
      "metadata": {
        "id": "PxQ9lNeV44Xd"
      },
      "source": [
        "Depois de importar o pacote, digite ```pd.``` e aperte **Tab**. Todas as possibilidades serão exibidas, e você vai poder escolher aquela desejada."
      ]
    },
    {
      "cell_type": "code",
      "metadata": {
        "id": "BdQOUU6e45g8"
      },
      "source": [
        "pd."
      ],
      "execution_count": null,
      "outputs": []
    },
    {
      "cell_type": "markdown",
      "metadata": {
        "id": "BVSDD3XM5BIZ"
      },
      "source": [
        "Vamos supor agora que você quer usar ```pd.read_csv``` para ler o arquivo csv que acabou de baixar acima. Para saber quais os parâmetros que fazem parte de qualquer classe ou função, basta digitar ```pd.read_csv(``` e apertar **Tab**."
      ]
    },
    {
      "cell_type": "code",
      "metadata": {
        "id": "zpcUkXHr5YJ0"
      },
      "source": [
        "pd.read_csv("
      ],
      "execution_count": null,
      "outputs": []
    },
    {
      "cell_type": "markdown",
      "metadata": {
        "id": "EKNSktLn5eE_"
      },
      "source": [
        "Outra dica que vai ajudar muito nos momentos que você estiver com dúvida, é usar o ponto de interrogação no final de um objeto ou método, e rodar a célula usando **Shift+Enter**."
      ]
    },
    {
      "cell_type": "code",
      "metadata": {
        "id": "RKWEsd5d5w6s"
      },
      "source": [
        "pd.read_csv?"
      ],
      "execution_count": null,
      "outputs": []
    },
    {
      "cell_type": "markdown",
      "metadata": {
        "id": "l9v4CZX154Gt"
      },
      "source": [
        "## Gráficos no Colab\n",
        "\n",
        "Gráficos vão fazer parte do seu dia a dia. Por tamanha a importância, teremos um módulo inteiramente dedicado a eles, onde vamos explorar as bibliotecas ```matplotlib``` e ```seaborn```.\n",
        "\n",
        "Você não precisa entender o código abaixo ainda, apenas ver como é possível gerar um facilmente por aqui."
      ]
    },
    {
      "cell_type": "markdown",
      "metadata": {
        "id": "OkDgDbocf6yQ"
      },
      "source": [
        "### Histogramas"
      ]
    },
    {
      "cell_type": "code",
      "metadata": {
        "id": "PKjzXnAB6_E6",
        "colab": {
          "base_uri": "https://localhost:8080/",
          "height": 265
        },
        "outputId": "7b1dd2f6-0c90-46f7-d7eb-1eab5a69943b"
      },
      "source": [
        "# importar matplotlib\n",
        "import matplotlib.pyplot as plt\n",
        "\n",
        "# importar csv e eliminar NaN\n",
        "df = pd.read_csv(\"https://raw.githubusercontent.com/carlosfab/data_science/master/data/train.csv\")\n",
        "df.dropna(axis=0, inplace=True)\n",
        "\n",
        "# plotar histograma\n",
        "plt.hist(df.Age, bins=10)\n",
        "plt.show()"
      ],
      "execution_count": null,
      "outputs": [
        {
          "output_type": "display_data",
          "data": {
            "image/png": "[encoded data removed]",
            "text/plain": [
              "<Figure size 432x288 with 1 Axes>"
            ]
          },
          "metadata": {
            "needs_background": "light"
          }
        }
      ]
    },
    {
      "cell_type": "markdown",
      "metadata": {
        "id": "s9TvYY-z8Nln"
      },
      "source": [
        "### Scatter Plots"
      ]
    },
    {
      "cell_type": "code",
      "metadata": {
        "id": "lHjrTOnl8Xzi",
        "colab": {
          "base_uri": "https://localhost:8080/",
          "height": 282
        },
        "outputId": "6baeaa73-83ce-4adb-c657-8e56e2d041f9"
      },
      "source": [
        "plt.scatter(df.Age, df.Fare)\n",
        "plt.show()\n",
        "plt.savefig('sigmoidal.png')"
      ],
      "execution_count": null,
      "outputs": [
        {
          "output_type": "display_data",
          "data": {
            "image/png": "[encoded data removed]",
            "text/plain": [
              "<Figure size 432x288 with 1 Axes>"
            ]
          },
          "metadata": {
            "needs_background": "light"
          }
        },
        {
          "output_type": "display_data",
          "data": {
            "text/plain": [
              "<Figure size 432x288 with 0 Axes>"
            ]
          },
          "metadata": {}
        }
      ]
    },
    {
      "cell_type": "markdown",
      "metadata": {
        "id": "MHrK9z0uFKlQ"
      },
      "source": [
        "## Formulários\n",
        "\n",
        "Aqui no Colab, há a possibilidade de se criar formulários interativos, que passam o valor para a variável. É uma ótima abordagem quando você tem que realizar vários testes para ajustes de parâmetros ou precisa receber um input de valor digitado."
      ]
    },
    {
      "cell_type": "code",
      "metadata": {
        "id": "XBq0DZWjGQH3",
        "colab": {
          "base_uri": "https://localhost:8080/",
          "height": 102
        },
        "outputId": "fdee48d2-76c5-4fc7-96aa-a2fbcc4c2829"
      },
      "source": [
        "#@title Exemplos de Campos {run: \"auto\"}\n",
        "\n",
        "texto = 'valor da string' #@param {type:\"string\"}\n",
        "melhor_cidade = 'Araraquara' #@param [\"Araraquara\", \"Londres\", \"Dublin\"]\n",
        "data_curso = '2019-09-16' #@param {type:\"date\"}\n",
        "number_slider = 5.1 #@param {type:\"slider\", min:0, max:10, step:0.1}\n",
        "boolean_checkbox = True #@param {type:\"boolean\"}\n",
        "\n",
        "# imprimir os valores dos formulários\n",
        "print(texto)\n",
        "print(melhor_cidade)\n",
        "print(data_curso)\n",
        "print(number_slider)\n",
        "print(boolean_checkbox)"
      ],
      "execution_count": null,
      "outputs": [
        {
          "output_type": "stream",
          "text": [
            "valor da string\n",
            "Araraquara\n",
            "2019-09-16\n",
            "6\n",
            "True\n"
          ],
          "name": "stdout"
        }
      ]
    },
    {
      "cell_type": "markdown",
      "metadata": {
        "id": "bd69TZilIw2w"
      },
      "source": [
        "Para os valores serem atualizados, você tem que executar a célula antes, clicando no botão **Play** ou com **Shift + Enter**.\n",
        "\n",
        "Uma alternativa, éincluir ```run: \"auto\"``` na primeira linha. Assim, após a primeira vez que você rodar a célula, caso mude futuramente o valor, ela executará automaticamente a mesma (atualizando o valor da variável atribuida).\n",
        "\n",
        "E lembrando que você consegue esconder a parte do código, deixando apenas o formulário. Basta clicar na célular, ir em **View → Show/hide code** (isso também é possível de fazer usando a barra de ferramentas que fica no canto superior direito de cada célula)."
      ]
    },
    {
      "cell_type": "markdown",
      "metadata": {
        "id": "rmm9DNz1Ium-"
      },
      "source": [
        "## Importando uma biblioteca que não está instalada"
      ]
    },
    {
      "cell_type": "markdown",
      "metadata": {
        "id": "R_IUQXcnK_zb"
      },
      "source": [
        "O ambiente do Colab já vem com as principais bibliotecas para Machine Learning e Data Science. No entanto, caso haja a necessidade de instalar qualquer pacote adicional, a instalação pode ser feita com o ```pip install```."
      ]
    },
    {
      "cell_type": "code",
      "metadata": {
        "id": "XTLEvcpRKYze"
      },
      "source": [
        "!pip install -q ga2"
      ],
      "execution_count": null,
      "outputs": []
    },
    {
      "cell_type": "markdown",
      "metadata": {
        "id": "QcVgHitvKdPC"
      },
      "source": [
        "## Salvando arquivos no Github\n",
        "\n",
        "Cada vez que você abre qualquer notebook no Colab, automaticamente uma cópia do mesmo é gerada. Isso significa que você pode modificar os notebooks do curso a vontade, pois não irá alterar o original.\n",
        "\n",
        "Uma coisa que você irá usar muito é salvar alguns notebooks do curso no Github, o que é feito muito facilmente neste ambiente.\n",
        "\n",
        "Para salvar no Github, basta apenas escohler **File→Save a copy to GitHub** no menu principal e fornecer as permissões de acesso necessárias.\n",
        "\n",
        "Para salvar diretamente no seu Google Drive, é só escolher a opção **File→Save a copy in Drive**."
      ]
    },
    {
      "cell_type": "markdown",
      "metadata": {
        "id": "SRs9AkjXUFv7"
      },
      "source": [
        "## Documentação por *Markdown*\n",
        "\n",
        "No Colab, você não precisa obrigatoriamente usar Markdown para conseguir documentar o seu texto. Há um mini editor disponível.\n",
        "\n",
        "Assim, é mais fácil definir quais os cabeçalhos, colocar em negrito ou itálico, interir tópicos ou mesmo imagens."
      ]
    },
    {
      "cell_type": "markdown",
      "metadata": {
        "id": "RJNqZeJVfq0W"
      },
      "source": [
        "### Equações e Fórmulas com LaTex\n",
        "\n",
        "Um outro recurso muito poderoso é o uso de *LaTex* dentro do *notebook*. Você consegue escrever equações, formulas matemáticas, usar símbolos especiais da mesma maneira que faria no seu editor.\n",
        "\n",
        "Há a possibilidade de se criar diagramas, grafos e representar matrizes - tudo com *LaTex*!"
      ]
    },
    {
      "cell_type": "markdown",
      "metadata": {
        "id": "z65rk2iOgYDV"
      },
      "source": [
        "$$\n",
        "\\begin{equation*}\n",
        "\\left( \\sum_{k=1}^n a_k b_k \\right)^2 \\leq \\left( \\sum_{k=1}^n a_k^2 \\right) \\left( \\sum_{k=1}^n b_k^2 \\right)\n",
        "\\end{equation*}\n",
        "$$"
      ]
    },
    {
      "cell_type": "markdown",
      "metadata": {
        "id": "pw_drWzxhHLz"
      },
      "source": [
        "$$\n",
        "\\mathbf{J}\n",
        "=\n",
        "\\frac{d \\mathbf{f}}{d \\mathbf{x}}\n",
        "=\n",
        "\\left[ \\frac{\\partial \\mathbf{f}}{\\partial x_1}\n",
        "\\cdots \\frac{\\partial \\mathbf{f}}{\\partial x_n} \\right]\n",
        "=\n",
        "\\begin{bmatrix}\n",
        "\\frac{\\partial f_1}{\\partial x_1} & \\cdots &\n",
        "\\frac{\\partial f_1}{\\partial x_n} \\\\\n",
        "\\vdots & \\ddots & \\vdots \\\\\n",
        "\\frac{\\partial f_m}{\\partial x_1} & \\cdots &\n",
        "\\frac{\\partial f_m}{\\partial x_n}\n",
        "\\end{bmatrix}\n",
        "$$"
      ]
    },
    {
      "cell_type": "markdown",
      "metadata": {
        "id": "IZ3nvKyohM6q"
      },
      "source": [
        "Caso você precise criar um \"container\" para as fórmulas, deve iniciar uma linha com `$$` e terminar a última linha com `$$`.\n",
        "\n",
        "Caso deseje usar o *LaTex* *inline, você usa `$` no ínicio e `$` no final, $\\sum_{k=1}^n$, desta maneira."
      ]
    },
    {
      "cell_type": "markdown",
      "metadata": {
        "id": "iiWcDYVRhWni"
      },
      "source": [
        "Um site excelente para se usar de referência, com muitos exemplos [é este aqui. ](https://www.math.ubc.ca/~pwalls/math-python/jupyter/latex/)"
      ]
    },
    {
      "cell_type": "markdown",
      "metadata": {
        "id": "742ZgUTAis2O"
      },
      "source": [
        "## Usar a webcam do seu computador\n",
        "\n",
        "O Colab já traz inúmeros *snippets* prontos. Usando eles, você não tem que digitar código algum, e consegue usar várias funcionalidades, como tirar uma foto da sua câmera."
      ]
    },
    {
      "cell_type": "code",
      "metadata": {
        "id": "BypjO-kYauSV"
      },
      "source": [
        "from IPython.display import display, Javascript\n",
        "from google.colab.output import eval_js\n",
        "from base64 import b64decode\n",
        "\n",
        "def take_photo(filename='photo.jpg', quality=0.8):\n",
        "  js = Javascript('''\n",
        "    async function takePhoto(quality) {\n",
        "      const div = document.createElement('div');\n",
        "      const capture = document.createElement('button');\n",
        "      capture.textContent = 'Capture';\n",
        "      div.appendChild(capture);\n",
        "\n",
        "      const video = document.createElement('video');\n",
        "      video.style.display = 'block';\n",
        "      const stream = await navigator.mediaDevices.getUserMedia({video: true});\n",
        "\n",
        "      document.body.appendChild(div);\n",
        "      div.appendChild(video);\n",
        "      video.srcObject = stream;\n",
        "      await video.play();\n",
        "\n",
        "      // Resize the output to fit the video element.\n",
        "      google.colab.output.setIframeHeight(document.documentElement.scrollHeight, true);\n",
        "\n",
        "      // Wait for Capture to be clicked.\n",
        "      await new Promise((resolve) => capture.onclick = resolve);\n",
        "\n",
        "      const canvas = document.createElement('canvas');\n",
        "      canvas.width = video.videoWidth;\n",
        "      canvas.height = video.videoHeight;\n",
        "      canvas.getContext('2d').drawImage(video, 0, 0);\n",
        "      stream.getVideoTracks()[0].stop();\n",
        "      div.remove();\n",
        "      return canvas.toDataURL('image/jpeg', quality);\n",
        "    }\n",
        "    ''')\n",
        "  display(js)\n",
        "  data = eval_js('takePhoto({})'.format(quality))\n",
        "  binary = b64decode(data.split(',')[1])\n",
        "  with open(filename, 'wb') as f:\n",
        "    f.write(binary)\n",
        "  return filename"
      ],
      "execution_count": null,
      "outputs": []
    },
    {
      "cell_type": "code",
      "metadata": {
        "id": "32-NRVetauR5",
        "colab": {
          "base_uri": "https://localhost:8080/",
          "height": 514
        },
        "outputId": "90bda84e-46ec-47fc-ed21-d03a20640fd8"
      },
      "source": [
        "from IPython.display import Image\n",
        "try:\n",
        "  filename = take_photo()\n",
        "  print('Saved to {}'.format(filename))\n",
        "  \n",
        "  # Show the image which was just taken.\n",
        "  display(Image(filename))\n",
        "except Exception as err:\n",
        "  # Errors will be thrown if the user does not have a webcam or if they do not\n",
        "  # grant the page permission to access it.\n",
        "  print(str(err))"
      ],
      "execution_count": null,
      "outputs": [
        {
          "output_type": "display_data",
          "data": {
            "application/javascript": [
              "\n",
              "    async function takePhoto(quality) {\n",
              "      const div = document.createElement('div');\n",
              "      const capture = document.createElement('button');\n",
              "      capture.textContent = 'Capture';\n",
              "      div.appendChild(capture);\n",
              "\n",
              "      const video = document.createElement('video');\n",
              "      video.style.display = 'block';\n",
              "      const stream = await navigator.mediaDevices.getUserMedia({video: true});\n",
              "\n",
              "      document.body.appendChild(div);\n",
              "      div.appendChild(video);\n",
              "      video.srcObject = stream;\n",
              "      await video.play();\n",
              "\n",
              "      // Resize the output to fit the video element.\n",
              "      google.colab.output.setIframeHeight(document.documentElement.scrollHeight, true);\n",
              "\n",
              "      // Wait for Capture to be clicked.\n",
              "      await new Promise((resolve) => capture.onclick = resolve);\n",
              "\n",
              "      const canvas = document.createElement('canvas');\n",
              "      canvas.width = video.videoWidth;\n",
              "      canvas.height = video.videoHeight;\n",
              "      canvas.getContext('2d').drawImage(video, 0, 0);\n",
              "      stream.getVideoTracks()[0].stop();\n",
              "      div.remove();\n",
              "      return canvas.toDataURL('image/jpeg', quality);\n",
              "    }\n",
              "    "
            ],
            "text/plain": [
              "<IPython.core.display.Javascript object>"
            ]
          },
          "metadata": {
            "tags": []
          }
        },
        {
          "output_type": "stream",
          "text": [
            "Saved to photo.jpg\n"
          ],
          "name": "stdout"
        },
        {
          "output_type": "display_data",
          "data": {
            "image/jpeg": "[encoded data removed]",
            "text/plain": [
              "<IPython.core.display.Image object>"
            ]
          },
          "metadata": {
            "tags": []
          }
        }
      ]
    }
  ]
}